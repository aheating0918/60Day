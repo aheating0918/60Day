{
 "cells": [
  {
   "cell_type": "markdown",
   "metadata": {},
   "source": [
    "## 作業\n",
    "在鐵達尼資料集中，   \n",
    "可以用今天範例中提到的三種辨識異常值的方法，  \n",
    "以 training data 為資料集。  \n",
    "1.觀察票價是否有異常值的現象?  \n",
    "2.你覺得找出的異常是真的異常? 你覺得需要做處理嗎?  \n",
    "(試著講出自己的想法。)  \n"
   ]
  },
  {
   "cell_type": "markdown",
   "metadata": {
    "colab_type": "text",
    "id": "Z9YHBcEGYdBV"
   },
   "source": [
    "### 資料\n",
    "鐵達尼號 train 資料集\n"
   ]
  },
  {
   "cell_type": "code",
   "execution_count": 3,
   "metadata": {
    "colab": {
     "base_uri": "https://localhost:8080/",
     "height": 34
    },
    "colab_type": "code",
    "executionInfo": {
     "elapsed": 1558,
     "status": "ok",
     "timestamp": 1578021044012,
     "user": {
      "displayName": "Mora chen",
      "photoUrl": "https://lh3.googleusercontent.com/a-/AAuE7mB40f7sDArbZ5_DYq02nNcnLD0Ryaf7AhsASSQeLQ=s64",
      "userId": "03171203089166907199"
     },
     "user_tz": -480
    },
    "id": "yz28_IgkYdBW",
    "outputId": "a12f486c-18b3-4fb5-d06c-f162aebd9444"
   },
   "outputs": [],
   "source": [
    "# library\n",
    "import matplotlib.pyplot as plt\n",
    "import numpy as np\n",
    "import pandas as pd\n",
    "import seaborn  as sns\n",
    "from scipy import stats\n",
    "import math\n",
    "import statistics\n",
    "#讓圖可以在 jupyter notebook顯示\n",
    "%matplotlib inline"
   ]
  },
  {
   "cell_type": "code",
   "execution_count": 4,
   "metadata": {},
   "outputs": [],
   "source": [
    "df_train = pd.read_csv(\"Titanic_train.csv\")\n",
    "df_test=pd.read_csv('Titanic_test.csv')"
   ]
  },
  {
   "cell_type": "markdown",
   "metadata": {},
   "source": [
    "### 探索性分析:\n",
    "*  觀察-是否有異常值  \n",
    "我們來觀察一下 Fare 變數吧!!"
   ]
  },
  {
   "cell_type": "markdown",
   "metadata": {},
   "source": [
    "## Q1:觀察票價是否有異常值的現象?"
   ]
  },
  {
   "cell_type": "markdown",
   "metadata": {},
   "source": [
    "## 方法1\n",
    "* 進行一個描述性的統計（規定範圍），從而檢視哪些值是不合理的（範圍以外的值）。  \n"
   ]
  },
  {
   "cell_type": "code",
   "execution_count": 7,
   "metadata": {},
   "outputs": [
    {
     "data": {
      "text/plain": [
       "count    891.000000\n",
       "mean      32.204208\n",
       "std       49.693429\n",
       "min        0.000000\n",
       "25%        7.910400\n",
       "50%       14.454200\n",
       "75%       31.000000\n",
       "max      512.329200\n",
       "Name: Fare, dtype: float64"
      ]
     },
     "execution_count": 7,
     "metadata": {},
     "output_type": "execute_result"
    }
   ],
   "source": [
    "df_train['Fare'].describe()"
   ]
  },
  {
   "cell_type": "markdown",
   "metadata": {},
   "source": [
    "## 方法 2\n",
    "* 進行3倍標準差原則的計算，從而檢視哪些值是可疑的異常值。  \n"
   ]
  },
  {
   "cell_type": "code",
   "execution_count": 10,
   "metadata": {},
   "outputs": [],
   "source": [
    "def outliers_z_score(data,times):\n",
    "    mean = np.mean(data)\n",
    "    stdev = np.std(data)\n",
    "    z_scores = [(i - mean) / stdev for i in data]\n",
    "    return np.where(np.abs(z_scores) > times)"
   ]
  },
  {
   "cell_type": "code",
   "execution_count": 11,
   "metadata": {},
   "outputs": [
    {
     "data": {
      "text/plain": [
       "(array([ 27,  88, 118, 258, 299, 311, 341, 377, 380, 438, 527, 557, 679,\n",
       "        689, 700, 716, 730, 737, 742, 779], dtype=int64),)"
      ]
     },
     "execution_count": 11,
     "metadata": {},
     "output_type": "execute_result"
    }
   ],
   "source": [
    "outliers_z_score(df_train['Fare'],3)"
   ]
  },
  {
   "cell_type": "markdown",
   "metadata": {},
   "source": [
    "## 方法3-盒鬚圖判別法(IQR method)"
   ]
  },
  {
   "cell_type": "code",
   "execution_count": 12,
   "metadata": {},
   "outputs": [],
   "source": [
    "def outliers_iqr(data, times):\n",
    "    Q1, Q3 = np.nanpercentile(data, [25, 75])\n",
    "    iqr = Q3 - Q1\n",
    "    lower_bound = Q1 - (iqr * times)\n",
    "    upper_bound = Q3 + (iqr * times)\n",
    "    return np.where((data > upper_bound) | (data < lower_bound))"
   ]
  },
  {
   "cell_type": "code",
   "execution_count": 13,
   "metadata": {},
   "outputs": [
    {
     "data": {
      "text/plain": [
       "(array([  1,  27,  31,  34,  52,  61,  62,  72,  88, 102, 118, 120, 124,\n",
       "        139, 151, 159, 180, 195, 201, 215, 218, 224, 230, 245, 256, 257,\n",
       "        258, 262, 268, 269, 275, 290, 291, 297, 299, 305, 306, 307, 310,\n",
       "        311, 318, 319, 324, 325, 332, 334, 336, 337, 341, 366, 369, 373,\n",
       "        375, 377, 380, 385, 390, 393, 412, 435, 438, 445, 453, 484, 486,\n",
       "        496, 498, 504, 505, 520, 527, 537, 540, 544, 550, 557, 558, 581,\n",
       "        585, 587, 591, 609, 627, 641, 645, 655, 659, 660, 665, 679, 681,\n",
       "        689, 698, 700, 708, 716, 730, 737, 741, 742, 745, 759, 763, 765,\n",
       "        779, 789, 792, 802, 820, 829, 835, 846, 849, 856, 863, 879],\n",
       "       dtype=int64),)"
      ]
     },
     "execution_count": 13,
     "metadata": {},
     "output_type": "execute_result"
    }
   ],
   "source": [
    "outliers_iqr(df_train['Fare'],1.5)"
   ]
  },
  {
   "cell_type": "markdown",
   "metadata": {},
   "source": [
    "## Q2:你覺得找出的異常是真的異常? 你覺得需要做處理嗎?\n"
   ]
  },
  {
   "cell_type": "code",
   "execution_count": 19,
   "metadata": {},
   "outputs": [
    {
     "data": {
      "text/plain": [
       "{'whiskers': [<matplotlib.lines.Line2D at 0x1c5977522c8>,\n",
       "  <matplotlib.lines.Line2D at 0x1c59776bf48>],\n",
       " 'caps': [<matplotlib.lines.Line2D at 0x1c597772ac8>,\n",
       "  <matplotlib.lines.Line2D at 0x1c597772cc8>],\n",
       " 'boxes': [<matplotlib.lines.Line2D at 0x1c59776be88>],\n",
       " 'medians': [<matplotlib.lines.Line2D at 0x1c597779f48>],\n",
       " 'fliers': [<matplotlib.lines.Line2D at 0x1c597779a88>],\n",
       " 'means': []}"
      ]
     },
     "execution_count": 19,
     "metadata": {},
     "output_type": "execute_result"
    },
    {
     "data": {
      "image/png": "[encoded data removed]",
      "text/plain": [
       "<Figure size 432x288 with 1 Axes>"
      ]
     },
     "metadata": {
      "needs_background": "light"
     },
     "output_type": "display_data"
    }
   ],
   "source": [
    "plt.boxplot(df_train['Fare'][~np.isnan(df_train['Fare'])],whis=3)"
   ]
  },
  {
   "cell_type": "code",
   "execution_count": null,
   "metadata": {},
   "outputs": [],
   "source": [
    "'''\n",
    "偽異常，無需處理\n",
    "'''"
   ]
  }
 ],
 "metadata": {
  "colab": {
   "name": "Day33.YOLO 細節理解 - 網路輸出的後處理_HW.ipynb",
   "provenance": []
  },
  "kernelspec": {
   "display_name": "Python 3",
   "language": "python",
   "name": "python3"
  },
  "language_info": {
   "codemirror_mode": {
    "name": "ipython",
    "version": 3
   },
   "file_extension": ".py",
   "mimetype": "text/x-python",
   "name": "python",
   "nbconvert_exporter": "python",
   "pygments_lexer": "ipython3",
   "version": "3.7.7"
  }
 },
 "nbformat": 4,
 "nbformat_minor": 1
}
